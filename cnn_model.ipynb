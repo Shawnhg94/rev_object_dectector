{
 "cells": [
  {
   "cell_type": "markdown",
   "metadata": {},
   "source": [
    "REV Object detect Model"
   ]
  },
  {
   "cell_type": "code",
   "execution_count": 17,
   "metadata": {},
   "outputs": [
    {
     "data": {
      "image/png": "[encoded data removed]",
      "text/plain": [
       "<PIL.PngImagePlugin.PngImageFile image mode=P size=640x360>"
      ]
     },
     "execution_count": 17,
     "metadata": {},
     "output_type": "execute_result"
    }
   ],
   "source": [
    "from PIL import Image\n",
    "import yaml\n",
    "\n",
    "\n",
    "obj_entity_list = []\n",
    "obj_entity_list.append({'Entity': 'Background', 'ID': 0, 'Colour': [0,0,0]})\n",
    "\n",
    "with open(\"object.yaml\", 'r') as file:\n",
    "    config = yaml.safe_load(file)\n",
    "    for ele in config['DRIVING_objects']:\n",
    "        entity_map = {}\n",
    "        entity_map['Entity'] = ele['Entity']\n",
    "        entity_map['ID'] = ele['ID']\n",
    "        entity_map['Colour'] = ele['Colour']\n",
    "        obj_entity_list.append(entity_map)\n",
    "\n",
    "colour_list = []\n",
    "\n",
    "for entity in obj_entity_list:\n",
    "    cur_colour = entity['Colour']\n",
    "    colour_list += cur_colour\n",
    "\n",
    "#print(colour_list)\n",
    "\n",
    "Image.open('input/0.jpg')\n",
    "\n",
    "mask = Image.open('mask/0.png')\n",
    "mask.putpalette(colour_list)\n",
    "mask\n",
    "\n",
    "# reference_mask = Image.open('FudanPed00001_mask.png')\n",
    "# reference_mask.getpixel\n"
   ]
  }
 ],
 "metadata": {
  "kernelspec": {
   "display_name": "shawn_env",
   "language": "python",
   "name": "python3"
  },
  "language_info": {
   "codemirror_mode": {
    "name": "ipython",
    "version": 3
   },
   "file_extension": ".py",
   "mimetype": "text/x-python",
   "name": "python",
   "nbconvert_exporter": "python",
   "pygments_lexer": "ipython3",
   "version": "3.11.11"
  }
 },
 "nbformat": 4,
 "nbformat_minor": 2
}
